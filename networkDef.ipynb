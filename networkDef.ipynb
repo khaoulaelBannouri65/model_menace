{
 "cells": [
  {
   "cell_type": "code",
   "execution_count": 1,
   "id": "cbaa4cad-5d8b-485e-94e8-d285beb29f22",
   "metadata": {},
   "outputs": [],
   "source": [
    "import networkx as nx\n",
    "import matplotlib.pyplot as plt"
   ]
  },
  {
   "cell_type": "code",
   "execution_count": 2,
   "id": "3636dd44-d6f5-42c8-9df1-18c7dd8c4706",
   "metadata": {},
   "outputs": [],
   "source": [
    "edges = [\n",
    "    (0, 1, 0.2),  # Nœud 0 -> Nœud 1 avec un poids d'influence de 0.2\n",
    "    (1, 2, 0.8),  # Nœud 1 -> Nœud 2 avec un poids d'influence de 0.8\n",
    "    (1, 3, 0.6),  # Nœud 1 -> Nœud 3 avec un poids d'influence de 0.6\n",
    "    (3, 4, 0.4)   # Nœud 3 -> Nœud 4 avec un poids d'influence de 0.4\n",
    "]"
   ]
  },
  {
   "cell_type": "code",
   "execution_count": 3,
   "id": "3263736e-adcd-4d4c-bc71-ec3b05afdc23",
   "metadata": {},
   "outputs": [
    {
     "data": {
      "image/png": "[encoded data removed]",
      "text/plain": [
       "<Figure size 640x480 with 1 Axes>"
      ]
     },
     "metadata": {},
     "output_type": "display_data"
    }
   ],
   "source": [
    "\n",
    "\n",
    "# Construire un graphe pondéré\n",
    "G = nx.Graph()\n",
    "for src, dst, weight in edges:\n",
    "    G.add_edge(src, dst, weight=weight)\n",
    "\n",
    "# Visualisation du graphe avec les arêtes pondérées\n",
    "pos = nx.spring_layout(G)\n",
    "nx.draw(G, pos, with_labels=True, node_color='skyblue', edge_color='gray')\n",
    "labels = nx.get_edge_attributes(G, 'weight')\n",
    "nx.draw_networkx_edge_labels(G, pos, edge_labels=labels)\n",
    "plt.show()\n"
   ]
  },
  {
   "cell_type": "code",
   "execution_count": 4,
   "id": "bdbb0de6-5707-4539-be42-51a40f505407",
   "metadata": {},
   "outputs": [],
   "source": [
    "\n",
    "# Caractéristiques des nœuds (seuils d'influence)\n",
    "node_thresholds = {\n",
    "    0: 0.3,  # Nœud 0 (seuil d'influence de 0.3)\n",
    "    1: 0.5,  # Nœud 1 (seuil d'influence de 0.5)\n",
    "    2: 0.7,  # Nœud 2 (seuil d'influence de 0.7)\n",
    "    3: 0.4,  # Nœud 3 (seuil d'influence de 0.4)\n",
    "    4: 0.6   # Nœud 4 (seuil d'influence de 0.6)\n",
    "}\n",
    "\n",
    "# Caractéristiques des nœuds (niveau de sécurité)\n",
    "node_features = {\n",
    "    0: [0.1],  # Nœud 0 (très vulnérable)\n",
    "    1: [0.8],  # Nœud 1 (relativement sûr)\n",
    "    2: [0.6],  # Nœud 2 (modérément vulnérable)\n",
    "    3: [0.7],  # Nœud 3 (relativement sûr)\n",
    "    4: [0.9]   # Nœud 4 (très sûr)\n",
    "}\n"
   ]
  },
  {
   "cell_type": "code",
   "execution_count": 12,
   "id": "81ee3c43-ebae-4f17-875d-9439adcc260c",
   "metadata": {},
   "outputs": [],
   "source": [
    "# Convertir les caractéristiques des nœuds en un format utilisable par PyTorch Geometric\n",
    "import torch\n",
    "from torch_geometric.data import Data\n",
    "\n",
    "x = torch.tensor([node_features[node] for node in G.nodes], dtype=torch.float)\n",
    "\n",
    "# Convertir le graphe en données PyTorch Geometric\n",
    "edge_index = torch.tensor([[0, 1, 1, 2, 1, 3, 3, 4],\n",
    "                           [1, 0, 2, 1, 3, 1, 4, 3]], dtype=torch.long)\n",
    "\n",
    "# Données du graphe\n",
    "data = Data(x=x, edge_index=edge_index)"
   ]
  },
  {
   "cell_type": "code",
   "execution_count": 14,
   "id": "10d5f030-977e-4986-9b56-2203eb8ddc9b",
   "metadata": {},
   "outputs": [],
   "source": [
    "from torch_geometric.nn import GCNConv\n",
    "\n",
    "class GCN(torch.nn.Module):\n",
    "    def __init__(self):\n",
    "        super().__init__()\n",
    "        self.conv1 = GCNConv(1, 16)\n",
    "        self.conv2 = GCNConv(16, 1)\n",
    "\n",
    "    def forward(self, x, edge_index):\n",
    "        x = self.conv1(x, edge_index).relu()\n",
    "        x = self.conv2(x, edge_index).sigmoid()\n",
    "        return x"
   ]
  },
  {
   "cell_type": "code",
   "execution_count": 15,
   "id": "dd884e2e-a459-4b3a-9b31-f97ff9291357",
   "metadata": {},
   "outputs": [],
   "source": [
    "model = GCN()\n",
    "optimizer = torch.optim.Adam(model.parameters(), lr=0.01)\n",
    "criterion = torch.nn.BCELoss()"
   ]
  },
  {
   "cell_type": "code",
   "execution_count": 16,
   "id": "45144a21-52ae-4a4e-9dee-c6760b173eb8",
   "metadata": {},
   "outputs": [
    {
     "name": "stdout",
     "output_type": "stream",
     "text": [
      "Epoch 1, Loss: 0.7295082807540894\n",
      "Epoch 2, Loss: 0.7173339128494263\n",
      "Epoch 3, Loss: 0.7061460614204407\n",
      "Epoch 4, Loss: 0.6968783140182495\n",
      "Epoch 5, Loss: 0.6880386471748352\n",
      "Epoch 6, Loss: 0.6796110272407532\n",
      "Epoch 7, Loss: 0.6715718507766724\n",
      "Epoch 8, Loss: 0.6639031171798706\n",
      "Epoch 9, Loss: 0.6565814018249512\n",
      "Epoch 10, Loss: 0.6495801210403442\n",
      "Epoch 11, Loss: 0.6428512334823608\n",
      "Epoch 12, Loss: 0.6363517045974731\n",
      "Epoch 13, Loss: 0.6300469636917114\n",
      "Epoch 14, Loss: 0.6239228248596191\n",
      "Epoch 15, Loss: 0.6179446578025818\n",
      "Epoch 16, Loss: 0.6121222972869873\n",
      "Epoch 17, Loss: 0.6064399480819702\n",
      "Epoch 18, Loss: 0.6008822917938232\n",
      "Epoch 19, Loss: 0.5954349637031555\n",
      "Epoch 20, Loss: 0.5900848507881165\n",
      "Epoch 21, Loss: 0.584820032119751\n",
      "Epoch 22, Loss: 0.5796416997909546\n",
      "Epoch 23, Loss: 0.574540913105011\n",
      "Epoch 24, Loss: 0.5694954991340637\n",
      "Epoch 25, Loss: 0.5645027756690979\n",
      "Epoch 26, Loss: 0.5595558285713196\n",
      "Epoch 27, Loss: 0.5546585917472839\n",
      "Epoch 28, Loss: 0.549811601638794\n",
      "Epoch 29, Loss: 0.5450122356414795\n",
      "Epoch 30, Loss: 0.5402653813362122\n",
      "Epoch 31, Loss: 0.5355762243270874\n",
      "Epoch 32, Loss: 0.5309652090072632\n",
      "Epoch 33, Loss: 0.5264542102813721\n",
      "Epoch 34, Loss: 0.52202969789505\n",
      "Epoch 35, Loss: 0.5176981687545776\n",
      "Epoch 36, Loss: 0.5134665369987488\n",
      "Epoch 37, Loss: 0.5093413591384888\n",
      "Epoch 38, Loss: 0.5053289532661438\n",
      "Epoch 39, Loss: 0.5014356374740601\n",
      "Epoch 40, Loss: 0.49766749143600464\n",
      "Epoch 41, Loss: 0.49403032660484314\n",
      "Epoch 42, Loss: 0.49052953720092773\n",
      "Epoch 43, Loss: 0.4871700704097748\n",
      "Epoch 44, Loss: 0.4839566648006439\n",
      "Epoch 45, Loss: 0.48089322447776794\n",
      "Epoch 46, Loss: 0.477983295917511\n",
      "Epoch 47, Loss: 0.47522956132888794\n",
      "Epoch 48, Loss: 0.47263407707214355\n",
      "Epoch 49, Loss: 0.4701981544494629\n",
      "Epoch 50, Loss: 0.4679219126701355\n",
      "Epoch 51, Loss: 0.4658049941062927\n",
      "Epoch 52, Loss: 0.4638458788394928\n",
      "Epoch 53, Loss: 0.46204203367233276\n",
      "Epoch 54, Loss: 0.46039026975631714\n",
      "Epoch 55, Loss: 0.4588860869407654\n",
      "Epoch 56, Loss: 0.4575243592262268\n",
      "Epoch 57, Loss: 0.4562990665435791\n",
      "Epoch 58, Loss: 0.4552032947540283\n",
      "Epoch 59, Loss: 0.4542295038700104\n",
      "Epoch 60, Loss: 0.4533696174621582\n",
      "Epoch 61, Loss: 0.4526149332523346\n",
      "Epoch 62, Loss: 0.4519563615322113\n",
      "Epoch 63, Loss: 0.45138487219810486\n",
      "Epoch 64, Loss: 0.4508908689022064\n",
      "Epoch 65, Loss: 0.4504651129245758\n",
      "Epoch 66, Loss: 0.45009827613830566\n",
      "Epoch 67, Loss: 0.4497814178466797\n",
      "Epoch 68, Loss: 0.44950589537620544\n",
      "Epoch 69, Loss: 0.44926363229751587\n",
      "Epoch 70, Loss: 0.44904714822769165\n",
      "Epoch 71, Loss: 0.4488493800163269\n",
      "Epoch 72, Loss: 0.448664128780365\n",
      "Epoch 73, Loss: 0.44848600029945374\n",
      "Epoch 74, Loss: 0.44831007719039917\n",
      "Epoch 75, Loss: 0.4481324553489685\n",
      "Epoch 76, Loss: 0.4479497969150543\n",
      "Epoch 77, Loss: 0.4477594792842865\n",
      "Epoch 78, Loss: 0.4475594460964203\n",
      "Epoch 79, Loss: 0.44734853506088257\n",
      "Epoch 80, Loss: 0.44712573289871216\n",
      "Epoch 81, Loss: 0.4468907415866852\n",
      "Epoch 82, Loss: 0.446643590927124\n",
      "Epoch 83, Loss: 0.4463845193386078\n",
      "Epoch 84, Loss: 0.4461142122745514\n",
      "Epoch 85, Loss: 0.445833295583725\n",
      "Epoch 86, Loss: 0.4455429017543793\n",
      "Epoch 87, Loss: 0.44524383544921875\n",
      "Epoch 88, Loss: 0.4449370801448822\n",
      "Epoch 89, Loss: 0.44462376832962036\n",
      "Epoch 90, Loss: 0.44430476427078247\n",
      "Epoch 91, Loss: 0.44398078322410583\n",
      "Epoch 92, Loss: 0.4436527192592621\n",
      "Epoch 93, Loss: 0.44332122802734375\n",
      "Epoch 94, Loss: 0.4429868161678314\n",
      "Epoch 95, Loss: 0.4426499307155609\n",
      "Epoch 96, Loss: 0.44231075048446655\n",
      "Epoch 97, Loss: 0.4419695734977722\n",
      "Epoch 98, Loss: 0.4416264593601227\n",
      "Epoch 99, Loss: 0.44128137826919556\n",
      "Epoch 100, Loss: 0.44093427062034607\n",
      "Epoch 101, Loss: 0.4405848979949951\n",
      "Epoch 102, Loss: 0.44023317098617554\n",
      "Epoch 103, Loss: 0.43987879157066345\n",
      "Epoch 104, Loss: 0.4395214021205902\n",
      "Epoch 105, Loss: 0.4391607642173767\n",
      "Epoch 106, Loss: 0.4387965202331543\n",
      "Epoch 107, Loss: 0.43842849135398865\n",
      "Epoch 108, Loss: 0.43805617094039917\n",
      "Epoch 109, Loss: 0.4376794397830963\n",
      "Epoch 110, Loss: 0.43729788064956665\n",
      "Epoch 111, Loss: 0.436911404132843\n",
      "Epoch 112, Loss: 0.4365195631980896\n",
      "Epoch 113, Loss: 0.43612241744995117\n",
      "Epoch 114, Loss: 0.4357195496559143\n",
      "Epoch 115, Loss: 0.4353109300136566\n",
      "Epoch 116, Loss: 0.434896320104599\n",
      "Epoch 117, Loss: 0.434475839138031\n",
      "Epoch 118, Loss: 0.434049129486084\n",
      "Epoch 119, Loss: 0.43361616134643555\n",
      "Epoch 120, Loss: 0.4331769347190857\n",
      "Epoch 121, Loss: 0.4327313005924225\n",
      "Epoch 122, Loss: 0.43227919936180115\n",
      "Epoch 123, Loss: 0.4318206310272217\n",
      "Epoch 124, Loss: 0.4313555359840393\n",
      "Epoch 125, Loss: 0.4308837056159973\n",
      "Epoch 126, Loss: 0.4304051995277405\n",
      "Epoch 127, Loss: 0.4299198091030121\n",
      "Epoch 128, Loss: 0.4294275641441345\n",
      "Epoch 129, Loss: 0.4289284348487854\n",
      "Epoch 130, Loss: 0.42842215299606323\n",
      "Epoch 131, Loss: 0.42790859937667847\n",
      "Epoch 132, Loss: 0.4273878037929535\n",
      "Epoch 133, Loss: 0.42685961723327637\n",
      "Epoch 134, Loss: 0.4263238310813904\n",
      "Epoch 135, Loss: 0.42578044533729553\n",
      "Epoch 136, Loss: 0.42522916197776794\n",
      "Epoch 137, Loss: 0.4246700406074524\n",
      "Epoch 138, Loss: 0.424102783203125\n",
      "Epoch 139, Loss: 0.423527330160141\n",
      "Epoch 140, Loss: 0.4229435324668884\n",
      "Epoch 141, Loss: 0.4223511815071106\n",
      "Epoch 142, Loss: 0.4217502474784851\n",
      "Epoch 143, Loss: 0.4211406707763672\n",
      "Epoch 144, Loss: 0.42052212357521057\n",
      "Epoch 145, Loss: 0.41989460587501526\n",
      "Epoch 146, Loss: 0.4192579686641693\n",
      "Epoch 147, Loss: 0.4186120629310608\n",
      "Epoch 148, Loss: 0.41795676946640015\n",
      "Epoch 149, Loss: 0.417292058467865\n",
      "Epoch 150, Loss: 0.4166176915168762\n",
      "Epoch 151, Loss: 0.4159335494041443\n",
      "Epoch 152, Loss: 0.4152396619319916\n",
      "Epoch 153, Loss: 0.4145357608795166\n",
      "Epoch 154, Loss: 0.4138217866420746\n",
      "Epoch 155, Loss: 0.413097620010376\n",
      "Epoch 156, Loss: 0.412363201379776\n",
      "Epoch 157, Loss: 0.41161832213401794\n",
      "Epoch 158, Loss: 0.4108630120754242\n",
      "Epoch 159, Loss: 0.41009703278541565\n",
      "Epoch 160, Loss: 0.4093203544616699\n",
      "Epoch 161, Loss: 0.4085327684879303\n",
      "Epoch 162, Loss: 0.40773430466651917\n",
      "Epoch 163, Loss: 0.4069247245788574\n",
      "Epoch 164, Loss: 0.4061039984226227\n",
      "Epoch 165, Loss: 0.40527209639549255\n",
      "Epoch 166, Loss: 0.4044288098812103\n",
      "Epoch 167, Loss: 0.403574138879776\n",
      "Epoch 168, Loss: 0.4027079641819\n",
      "Epoch 169, Loss: 0.40183010697364807\n",
      "Epoch 170, Loss: 0.4009406566619873\n",
      "Epoch 171, Loss: 0.40036097168922424\n",
      "Epoch 172, Loss: 0.3995576500892639\n",
      "Epoch 173, Loss: 0.3985053300857544\n",
      "Epoch 174, Loss: 0.39759746193885803\n",
      "Epoch 175, Loss: 0.3968302607536316\n",
      "Epoch 176, Loss: 0.39605140686035156\n",
      "Epoch 177, Loss: 0.39525383710861206\n",
      "Epoch 178, Loss: 0.39443209767341614\n",
      "Epoch 179, Loss: 0.3935821056365967\n",
      "Epoch 180, Loss: 0.3927018344402313\n",
      "Epoch 181, Loss: 0.3917906880378723\n",
      "Epoch 182, Loss: 0.3908495008945465\n",
      "Epoch 183, Loss: 0.3898801803588867\n",
      "Epoch 184, Loss: 0.3888881802558899\n",
      "Epoch 185, Loss: 0.38806191086769104\n",
      "Epoch 186, Loss: 0.38713911175727844\n",
      "Epoch 187, Loss: 0.3862665295600891\n",
      "Epoch 188, Loss: 0.3853552043437958\n",
      "Epoch 189, Loss: 0.38440585136413574\n",
      "Epoch 190, Loss: 0.38363027572631836\n",
      "Epoch 191, Loss: 0.3826614022254944\n",
      "Epoch 192, Loss: 0.3817042112350464\n",
      "Epoch 193, Loss: 0.3808385729789734\n",
      "Epoch 194, Loss: 0.3799230456352234\n",
      "Epoch 195, Loss: 0.37895888090133667\n",
      "Epoch 196, Loss: 0.37794944643974304\n",
      "Epoch 197, Loss: 0.3770444095134735\n",
      "Epoch 198, Loss: 0.3760845959186554\n",
      "Epoch 199, Loss: 0.375082790851593\n",
      "Epoch 200, Loss: 0.37416380643844604\n"
     ]
    }
   ],
   "source": [
    "# 'entraînement (150 itérations)\n",
    "for epoch in range(200):\n",
    "    model.train()\n",
    "    optimizer.zero_grad()\n",
    "    out = model(data.x, data.edge_index)\n",
    "    loss = criterion(out, torch.tensor([[1], [0], [0], [0], [0]], dtype=torch.float))  # Cible (infection initiale)\n",
    "    loss.backward()\n",
    "    optimizer.step()\n",
    "    print(f\"Epoch {epoch+1}, Loss: {loss.item()}\")"
   ]
  },
  {
   "cell_type": "code",
   "execution_count": 17,
   "id": "bf96341a-0bc8-462d-9ad0-f838bcd6b122",
   "metadata": {},
   "outputs": [
    {
     "name": "stdout",
     "output_type": "stream",
     "text": [
      "Prédictions : [[0.26369822]\n",
      " [0.11608508]\n",
      " [0.18396653]\n",
      " [0.09157219]\n",
      " [0.1044096 ]]\n"
     ]
    }
   ],
   "source": [
    "model.eval()\n",
    "predictions = model(data.x, data.edge_index)\n",
    "print(f\"Prédictions : {predictions.detach().numpy()}\")"
   ]
  },
  {
   "cell_type": "code",
   "execution_count": 18,
   "id": "32f36556-0579-4d80-b032-d56d15e34292",
   "metadata": {},
   "outputs": [
    {
     "name": "stdout",
     "output_type": "stream",
     "text": [
      "Nœuds infectés : {0, 1, 2, 3}\n"
     ]
    }
   ],
   "source": [
    "def linear_threshold(G, initial_infected, node_thresholds):\n",
    "    \"\"\"\n",
    "    Simule la diffusion d'une menace dans un graphe selon le modèle Linear Threshold.\n",
    "    \"\"\"\n",
    "    newly_infected = set(initial_infected)\n",
    "    total_infected = set(initial_infected)\n",
    "\n",
    "    # Initialisation des influences des nœuds\n",
    "    influence = {node: 0.0 for node in G.nodes}\n",
    "\n",
    "    while newly_infected:\n",
    "        next_infected = set()\n",
    "        for node in newly_infected:\n",
    "            for neighbor in G.neighbors(node):\n",
    "                if neighbor not in total_infected:\n",
    "                    # Additionner l'influence des nœuds voisins\n",
    "                    influence[neighbor] += G[node][neighbor]['weight']\n",
    "\n",
    "                    # Vérifier si la somme des influences dépasse le seuil\n",
    "                    if influence[neighbor] >= node_thresholds[neighbor]:\n",
    "                        next_infected.add(neighbor)\n",
    "\n",
    "        total_infected.update(next_infected)\n",
    "        newly_infected = next_infected\n",
    "\n",
    "    return total_infected\n",
    "\n",
    "# Exemple d'infection avec le modèle Linear Threshold\n",
    "initial_infected = [0,2]\n",
    "infected_nodes = linear_threshold(G, initial_infected, node_thresholds)\n",
    "print(f\"Nœuds infectés : {infected_nodes}\")"
   ]
  },
  {
   "cell_type": "code",
   "execution_count": 19,
   "id": "136badcb-8a0e-4fb9-adb8-519ef9515082",
   "metadata": {},
   "outputs": [
    {
     "data": {
      "image/png": "[encoded data removed]",
      "text/plain": [
       "<Figure size 800x600 with 1 Axes>"
      ]
     },
     "metadata": {},
     "output_type": "display_data"
    }
   ],
   "source": [
    "# Visualisation du graphe avec les nœuds infectés\n",
    "pos = nx.spring_layout(G)\n",
    "\n",
    "# Création des couleurs pour les nœuds\n",
    "node_colors = ['red' if node in infected_nodes else 'skyblue' for node in G.nodes]\n",
    "\n",
    "# Dessiner le graphe\n",
    "plt.figure(figsize=(8, 6))\n",
    "nx.draw(G, pos, with_labels=True, node_color=node_colors, edge_color='gray', node_size=2000, font_size=12, font_weight='bold')\n",
    "plt.title(\"Propagation des menaces dans le réseau\")\n",
    "plt.show()"
   ]
  },
  {
   "cell_type": "code",
   "execution_count": 26,
   "id": "8a5abfe3-4b59-4090-8932-1abb2184da05",
   "metadata": {},
   "outputs": [
    {
     "data": {
      "text/plain": [
       "['model_menace.pkl']"
      ]
     },
     "execution_count": 26,
     "metadata": {},
     "output_type": "execute_result"
    }
   ],
   "source": [
    "model_data = {\n",
    "    'model': model,\n",
    "    'linear_threshold': linear_threshold\n",
    "}\n",
    "\n",
    "# Enregistrer l'objet avec joblib\n",
    "joblib.dump(model_data, 'model_menace.pkl')"
   ]
  },
  {
   "cell_type": "code",
   "execution_count": null,
   "id": "8fe773b6-0a2d-462a-a44b-d1885b4eb975",
   "metadata": {},
   "outputs": [],
   "source": []
  }
 ],
 "metadata": {
  "kernelspec": {
   "display_name": "Python 3.12.0 64-bit",
   "language": "python",
   "name": "python3"
  },
  "language_info": {
   "codemirror_mode": {
    "name": "ipython",
    "version": 3
   },
   "file_extension": ".py",
   "mimetype": "text/x-python",
   "name": "python",
   "nbconvert_exporter": "python",
   "pygments_lexer": "ipython3",
   "version": "3.12.0"
  },
  "vscode": {
   "interpreter": {
    "hash": "01ef024c751990d238ed1d8ec4f3ab0b5aea3d0bf5325f00d37453ea6b66137b"
   }
  }
 },
 "nbformat": 4,
 "nbformat_minor": 5
}
